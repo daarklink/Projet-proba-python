{
 "cells": [
  {
   "cell_type": "markdown",
   "id": "0a45104a",
   "metadata": {},
   "source": [
    "# Sujet 2 : GCL RANDU"
   ]
  },
  {
   "cell_type": "code",
   "execution_count": null,
   "id": "d2999317",
   "metadata": {},
   "outputs": [
    {
     "name": "stdout",
     "output_type": "stream",
     "text": [
      "[0.0, 0.3861688492024043, 0.26699443596453315, 0.17641849390190023, 0.7055325606669427, 0.5954102596346618, 0.2976375777883839, 0.5270997410478032, 0.4838366770345882, 0.2090939137136397, 1.0]\n"
     ]
    }
   ],
   "source": [
    "\n",
    "def normaliser(liste):\n",
    "    minimum = min(liste)\n",
    "    maximum = max(liste) \n",
    "\n",
    "    newlist = []\n",
    "    for i in liste :\n",
    "        newlist.append((i - minimum) / (maximum - minimum))\n",
    "    return newlist\n",
    "\n",
    "\n",
    "\n",
    "def GCL_RANDU(nbElement) :  \n",
    "    Un0 = 12345\n",
    "    UnPlus = 0\n",
    "    liste.append(Un0)\n",
    "\n",
    "    for i in range(nbElement) :\n",
    "        UnPlus = (65539 * liste[i]) % (2**31)\n",
    "        liste.append(UnPlus)\n",
    "    \n",
    "    return normaliser(liste)\n",
    "\n",
    "\n",
    "liste = []\n",
    "liste = GCL_RANDU(10)\n",
    "print(liste)"
   ]
  }
 ],
 "metadata": {
  "kernelspec": {
   "display_name": "Python 3",
   "language": "python",
   "name": "python3"
  },
  "language_info": {
   "codemirror_mode": {
    "name": "ipython",
    "version": 3
   },
   "file_extension": ".py",
   "mimetype": "text/x-python",
   "name": "python",
   "nbconvert_exporter": "python",
   "pygments_lexer": "ipython3",
   "version": "3.9.6"
  }
 },
 "nbformat": 4,
 "nbformat_minor": 5
}
