{
 "cells": [
  {
   "cell_type": "markdown",
   "id": "0a45104a",
   "metadata": {},
   "source": [
    "# Sujet 2 : GCL RANDU"
   ]
  },
  {
   "cell_type": "code",
   "execution_count": null,
   "id": "d2999317",
   "metadata": {},
   "outputs": [
    {
     "ename": "NameError",
     "evalue": "name 'x' is not defined",
     "output_type": "error",
     "traceback": [
      "\u001b[0;31m---------------------------------------------------------------------------\u001b[0m",
      "\u001b[0;31mNameError\u001b[0m                                 Traceback (most recent call last)",
      "Cell \u001b[0;32mIn[12], line 25\u001b[0m\n\u001b[1;32m     21\u001b[0m     \u001b[38;5;28;01mreturn\u001b[39;00m normaliser(liste)\n\u001b[1;32m     24\u001b[0m liste \u001b[38;5;241m=\u001b[39m []\n\u001b[0;32m---> 25\u001b[0m liste \u001b[38;5;241m=\u001b[39m \u001b[43mGCL_RANDU\u001b[49m\u001b[43m(\u001b[49m\u001b[38;5;241;43m10\u001b[39;49m\u001b[43m)\u001b[49m\n\u001b[1;32m     26\u001b[0m \u001b[38;5;28mprint\u001b[39m(liste)\n",
      "Cell \u001b[0;32mIn[12], line 21\u001b[0m, in \u001b[0;36mGCL_RANDU\u001b[0;34m(nbElement)\u001b[0m\n\u001b[1;32m     18\u001b[0m     UnPlus \u001b[38;5;241m=\u001b[39m (\u001b[38;5;241m65539\u001b[39m \u001b[38;5;241m*\u001b[39m liste[i]) \u001b[38;5;241m%\u001b[39m (\u001b[38;5;241m2\u001b[39m\u001b[38;5;241m*\u001b[39m\u001b[38;5;241m*\u001b[39m\u001b[38;5;241m31\u001b[39m)\n\u001b[1;32m     19\u001b[0m     liste\u001b[38;5;241m.\u001b[39mappend(UnPlus)\n\u001b[0;32m---> 21\u001b[0m \u001b[38;5;28;01mreturn\u001b[39;00m \u001b[43mnormaliser\u001b[49m\u001b[43m(\u001b[49m\u001b[43mliste\u001b[49m\u001b[43m)\u001b[49m\n",
      "Cell \u001b[0;32mIn[12], line 7\u001b[0m, in \u001b[0;36mnormaliser\u001b[0;34m(liste)\u001b[0m\n\u001b[1;32m      5\u001b[0m newlist \u001b[38;5;241m=\u001b[39m []\n\u001b[1;32m      6\u001b[0m \u001b[38;5;28;01mfor\u001b[39;00m i \u001b[38;5;129;01min\u001b[39;00m liste :\n\u001b[0;32m----> 7\u001b[0m     newlist\u001b[38;5;241m.\u001b[39mappend((\u001b[43mx\u001b[49m \u001b[38;5;241m-\u001b[39m minimum) \u001b[38;5;241m/\u001b[39m (maximum \u001b[38;5;241m-\u001b[39m minimum))\n\u001b[1;32m      8\u001b[0m \u001b[38;5;28;01mreturn\u001b[39;00m newlist\n",
      "\u001b[0;31mNameError\u001b[0m: name 'x' is not defined"
     ]
    }
   ],
   "source": [
    "\n",
    "def normaliser(liste):\n",
    "    minimum = min(liste)\n",
    "    maximum = max(liste)\n",
    "\n",
    "    newlist = []\n",
    "    for i in liste :\n",
    "        newlist.append((i - minimum) / (maximum - minimum))\n",
    "    return newlist\n",
    "\n",
    "\n",
    "\n",
    "def GCL_RANDU(nbElement) :  \n",
    "    Un0 = 12345\n",
    "    UnPlus = 0\n",
    "    liste.append(Un0)\n",
    "\n",
    "    for i in range(nbElement) :\n",
    "        UnPlus = (65539 * liste[i]) % (2**31)\n",
    "        liste.append(UnPlus)\n",
    "    \n",
    "    return normaliser(liste)\n",
    "\n",
    "\n",
    "liste = []\n",
    "liste = GCL_RANDU(10)\n",
    "print(liste)"
   ]
  },
  {
   "cell_type": "code",
   "execution_count": null,
   "id": "a8ef6531",
   "metadata": {},
   "outputs": [],
   "source": []
  }
 ],
 "metadata": {
  "kernelspec": {
   "display_name": "Python 3",
   "language": "python",
   "name": "python3"
  },
  "language_info": {
   "codemirror_mode": {
    "name": "ipython",
    "version": 3
   },
   "file_extension": ".py",
   "mimetype": "text/x-python",
   "name": "python",
   "nbconvert_exporter": "python",
   "pygments_lexer": "ipython3",
   "version": "3.9.6"
  }
 },
 "nbformat": 4,
 "nbformat_minor": 5
}
