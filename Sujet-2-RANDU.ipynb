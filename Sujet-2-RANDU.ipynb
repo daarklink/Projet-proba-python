{
 "cells": [
  {
   "cell_type": "code",
   "execution_count": null,
   "id": "d2999317",
   "metadata": {},
   "outputs": [],
   "source": []
  },
  {
   "cell_type": "markdown",
   "id": "6888fac0",
   "metadata": {},
   "source": [
    "# Sujet 2 : GCL RANDU"
   ]
  }
 ],
 "metadata": {
  "language_info": {
   "name": "python"
  }
 },
 "nbformat": 4,
 "nbformat_minor": 5
}
